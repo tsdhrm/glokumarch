{
 "cells": [
  {
   "cell_type": "code",
   "execution_count": 1,
   "id": "82ccb6d4-12c1-4731-8681-79ef3ce898b3",
   "metadata": {},
   "outputs": [],
   "source": [
    "import cv2\n",
    "import numpy as np\n",
    "import matplotlib.pyplot as plt"
   ]
  },
  {
   "cell_type": "code",
   "execution_count": null,
   "id": "bc367181-ae37-44ca-85a5-858cea9b1560",
   "metadata": {},
   "outputs": [],
   "source": [
    "images = "
   ]
  }
 ],
 "metadata": {
  "kernelspec": {
   "display_name": "cobaRetina-cqXnBND2",
   "language": "python",
   "name": "cobaretina-cqxnbnd2"
  },
  "language_info": {
   "codemirror_mode": {
    "name": "ipython",
    "version": 3
   },
   "file_extension": ".py",
   "mimetype": "text/x-python",
   "name": "python",
   "nbconvert_exporter": "python",
   "pygments_lexer": "ipython3",
   "version": "3.10.7"
  }
 },
 "nbformat": 4,
 "nbformat_minor": 5
}
