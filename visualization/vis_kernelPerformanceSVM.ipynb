{
 "cells": [
  {
   "cell_type": "code",
   "execution_count": 9,
   "id": "f9bdf0f6-ee0c-4750-a8d3-046ccdf547a2",
   "metadata": {},
   "outputs": [],
   "source": [
    "import numpy as np\n",
    "import pandas as pd\n",
    "import seaborn as sns\n",
    "import plotly.express as px\n",
    "import matplotlib.pyplot as plt\n",
    "import plotly.offline as po\n",
    "\n",
    "%matplotlib inline"
   ]
  },
  {
   "cell_type": "markdown",
   "id": "5fde394f-fd2a-4344-a817-258324c923ef",
   "metadata": {},
   "source": [
    "# Data"
   ]
  },
  {
   "cell_type": "markdown",
   "id": "af7960bf-652f-4854-a8fa-ce2d3f11c63e",
   "metadata": {},
   "source": [
    "## Kernel Performance"
   ]
  },
  {
   "cell_type": "code",
   "execution_count": 10,
   "id": "bd18e441-d057-46d5-92ae-76e1fb88c102",
   "metadata": {},
   "outputs": [],
   "source": [
    "hl = pd.read_csv(r'/Users/teguhsatya/Desktop/helloNew/glokumarch/modelling/SVM/noNormalization/SVMResult/svmresult.csv')"
   ]
  },
  {
   "cell_type": "code",
   "execution_count": 11,
   "id": "27417a35-6ffe-4ccf-928a-b6d330a3aab5",
   "metadata": {},
   "outputs": [
    {
     "data": {
      "text/html": [
       "<div>\n",
       "<style scoped>\n",
       "    .dataframe tbody tr th:only-of-type {\n",
       "        vertical-align: middle;\n",
       "    }\n",
       "\n",
       "    .dataframe tbody tr th {\n",
       "        vertical-align: top;\n",
       "    }\n",
       "\n",
       "    .dataframe thead th {\n",
       "        text-align: right;\n",
       "    }\n",
       "</style>\n",
       "<table border=\"1\" class=\"dataframe\">\n",
       "  <thead>\n",
       "    <tr style=\"text-align: right;\">\n",
       "      <th></th>\n",
       "      <th>kernel</th>\n",
       "      <th>test_accuracy</th>\n",
       "      <th>test_precision</th>\n",
       "      <th>test_recall</th>\n",
       "      <th>test_f1</th>\n",
       "    </tr>\n",
       "  </thead>\n",
       "  <tbody>\n",
       "    <tr>\n",
       "      <th>0</th>\n",
       "      <td>linear</td>\n",
       "      <td>0.705882</td>\n",
       "      <td>0.611111</td>\n",
       "      <td>0.785714</td>\n",
       "      <td>0.6875</td>\n",
       "    </tr>\n",
       "    <tr>\n",
       "      <th>1</th>\n",
       "      <td>poly</td>\n",
       "      <td>0.529412</td>\n",
       "      <td>0.461538</td>\n",
       "      <td>0.857143</td>\n",
       "      <td>0.6000</td>\n",
       "    </tr>\n",
       "    <tr>\n",
       "      <th>2</th>\n",
       "      <td>rbf</td>\n",
       "      <td>0.823529</td>\n",
       "      <td>0.722222</td>\n",
       "      <td>0.928571</td>\n",
       "      <td>0.8125</td>\n",
       "    </tr>\n",
       "  </tbody>\n",
       "</table>\n",
       "</div>"
      ],
      "text/plain": [
       "   kernel  test_accuracy  test_precision  test_recall  test_f1\n",
       "0  linear       0.705882        0.611111     0.785714   0.6875\n",
       "1    poly       0.529412        0.461538     0.857143   0.6000\n",
       "2     rbf       0.823529        0.722222     0.928571   0.8125"
      ]
     },
     "execution_count": 11,
     "metadata": {},
     "output_type": "execute_result"
    }
   ],
   "source": [
    "hl.head()"
   ]
  },
  {
   "cell_type": "code",
   "execution_count": 12,
   "id": "c771082d-f214-4999-806e-585d15eddf82",
   "metadata": {},
   "outputs": [],
   "source": [
    "hlc = hl.copy()"
   ]
  },
  {
   "cell_type": "code",
   "execution_count": 13,
   "id": "e89685a0-55a7-4a06-b342-83d1a6912f1c",
   "metadata": {},
   "outputs": [],
   "source": [
    "hlc_n = hlc.apply(lambda x: x*100 if x.name in ['test_accuracy', 'test_precision', \\\n",
    "                                                'test_recall', 'test_f1'] else x)"
   ]
  },
  {
   "cell_type": "code",
   "execution_count": 14,
   "id": "2a08cb42-84d4-43cb-a37f-9f2565b77fd4",
   "metadata": {},
   "outputs": [
    {
     "data": {
      "text/html": [
       "<div>\n",
       "<style scoped>\n",
       "    .dataframe tbody tr th:only-of-type {\n",
       "        vertical-align: middle;\n",
       "    }\n",
       "\n",
       "    .dataframe tbody tr th {\n",
       "        vertical-align: top;\n",
       "    }\n",
       "\n",
       "    .dataframe thead th {\n",
       "        text-align: right;\n",
       "    }\n",
       "</style>\n",
       "<table border=\"1\" class=\"dataframe\">\n",
       "  <thead>\n",
       "    <tr style=\"text-align: right;\">\n",
       "      <th></th>\n",
       "      <th>kernel</th>\n",
       "      <th>test_accuracy</th>\n",
       "      <th>test_precision</th>\n",
       "      <th>test_recall</th>\n",
       "      <th>test_f1</th>\n",
       "    </tr>\n",
       "  </thead>\n",
       "  <tbody>\n",
       "    <tr>\n",
       "      <th>0</th>\n",
       "      <td>linear</td>\n",
       "      <td>70.588235</td>\n",
       "      <td>61.111111</td>\n",
       "      <td>78.571429</td>\n",
       "      <td>68.75</td>\n",
       "    </tr>\n",
       "    <tr>\n",
       "      <th>1</th>\n",
       "      <td>poly</td>\n",
       "      <td>52.941176</td>\n",
       "      <td>46.153846</td>\n",
       "      <td>85.714286</td>\n",
       "      <td>60.00</td>\n",
       "    </tr>\n",
       "    <tr>\n",
       "      <th>2</th>\n",
       "      <td>rbf</td>\n",
       "      <td>82.352941</td>\n",
       "      <td>72.222222</td>\n",
       "      <td>92.857143</td>\n",
       "      <td>81.25</td>\n",
       "    </tr>\n",
       "  </tbody>\n",
       "</table>\n",
       "</div>"
      ],
      "text/plain": [
       "   kernel  test_accuracy  test_precision  test_recall  test_f1\n",
       "0  linear      70.588235       61.111111    78.571429    68.75\n",
       "1    poly      52.941176       46.153846    85.714286    60.00\n",
       "2     rbf      82.352941       72.222222    92.857143    81.25"
      ]
     },
     "execution_count": 14,
     "metadata": {},
     "output_type": "execute_result"
    }
   ],
   "source": [
    "hlc_n"
   ]
  },
  {
   "cell_type": "code",
   "execution_count": 15,
   "id": "e78f07ae-7dfc-471f-b9c6-90d38067893a",
   "metadata": {},
   "outputs": [],
   "source": [
    "hlcn = hlc_n.apply(lambda x: x.round(2) if x.name in ['test_accuracy', 'test_precision', \\\n",
    "                                                'test_recall', 'test_f1'] else x)"
   ]
  },
  {
   "cell_type": "code",
   "execution_count": 16,
   "id": "2bd6421b-1673-4642-8008-14ad0c86a56f",
   "metadata": {},
   "outputs": [
    {
     "data": {
      "text/html": [
       "<div>\n",
       "<style scoped>\n",
       "    .dataframe tbody tr th:only-of-type {\n",
       "        vertical-align: middle;\n",
       "    }\n",
       "\n",
       "    .dataframe tbody tr th {\n",
       "        vertical-align: top;\n",
       "    }\n",
       "\n",
       "    .dataframe thead th {\n",
       "        text-align: right;\n",
       "    }\n",
       "</style>\n",
       "<table border=\"1\" class=\"dataframe\">\n",
       "  <thead>\n",
       "    <tr style=\"text-align: right;\">\n",
       "      <th></th>\n",
       "      <th>kernel</th>\n",
       "      <th>test_accuracy</th>\n",
       "      <th>test_precision</th>\n",
       "      <th>test_recall</th>\n",
       "      <th>test_f1</th>\n",
       "    </tr>\n",
       "  </thead>\n",
       "  <tbody>\n",
       "    <tr>\n",
       "      <th>0</th>\n",
       "      <td>linear</td>\n",
       "      <td>70.59</td>\n",
       "      <td>61.11</td>\n",
       "      <td>78.57</td>\n",
       "      <td>68.75</td>\n",
       "    </tr>\n",
       "    <tr>\n",
       "      <th>1</th>\n",
       "      <td>poly</td>\n",
       "      <td>52.94</td>\n",
       "      <td>46.15</td>\n",
       "      <td>85.71</td>\n",
       "      <td>60.00</td>\n",
       "    </tr>\n",
       "    <tr>\n",
       "      <th>2</th>\n",
       "      <td>rbf</td>\n",
       "      <td>82.35</td>\n",
       "      <td>72.22</td>\n",
       "      <td>92.86</td>\n",
       "      <td>81.25</td>\n",
       "    </tr>\n",
       "  </tbody>\n",
       "</table>\n",
       "</div>"
      ],
      "text/plain": [
       "   kernel  test_accuracy  test_precision  test_recall  test_f1\n",
       "0  linear          70.59           61.11        78.57    68.75\n",
       "1    poly          52.94           46.15        85.71    60.00\n",
       "2     rbf          82.35           72.22        92.86    81.25"
      ]
     },
     "execution_count": 16,
     "metadata": {},
     "output_type": "execute_result"
    }
   ],
   "source": [
    "hlcn.head(5)"
   ]
  },
  {
   "cell_type": "markdown",
   "id": "3bd1809d-967b-4013-8cfe-d8b9315734bc",
   "metadata": {},
   "source": [
    "# Histogram"
   ]
  },
  {
   "cell_type": "code",
   "execution_count": 23,
   "id": "f3ca262d-2041-423f-b204-2eaaf2ea006e",
   "metadata": {},
   "outputs": [
    {
     "data": {
      "image/png": "[encoded data removed]",
      "text/plain": [
       "<Figure size 2000x800 with 1 Axes>"
      ]
     },
     "metadata": {},
     "output_type": "display_data"
    }
   ],
   "source": [
    "fig, ax = plt.subplots(figsize=(20,8))\n",
    "# plt.xticks(rotation=90)\n",
    "sns.barplot(hlcn, x='kernel', y='test_f1')\n",
    "fig.savefig('../assets/SVM_kernelComparison_F1.png', bbox_inches='tight')"
   ]
  },
  {
   "cell_type": "code",
   "execution_count": null,
   "id": "38f1c03b-ee3f-488e-b5cf-21f62e149be6",
   "metadata": {},
   "outputs": [],
   "source": []
  }
 ],
 "metadata": {
  "kernelspec": {
   "display_name": "segeralulus-2de6Tznz",
   "language": "python",
   "name": "segeralulus-2de6tznz"
  },
  "language_info": {
   "codemirror_mode": {
    "name": "ipython",
    "version": 3
   },
   "file_extension": ".py",
   "mimetype": "text/x-python",
   "name": "python",
   "nbconvert_exporter": "python",
   "pygments_lexer": "ipython3",
   "version": "3.10.4"
  }
 },
 "nbformat": 4,
 "nbformat_minor": 5
}
