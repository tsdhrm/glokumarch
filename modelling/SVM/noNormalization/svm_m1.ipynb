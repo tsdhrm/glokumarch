{
 "cells": [
  {
   "cell_type": "code",
   "execution_count": 1,
   "id": "98b958c3-49f3-4ddc-a5b2-5139f9473f19",
   "metadata": {},
   "outputs": [],
   "source": [
    "import numpy as np\n",
    "import pandas as pd\n",
    "from sklearn.svm import SVC\n",
    "from sklearn.metrics import accuracy_score, precision_score, recall_score, f1_score"
   ]
  },
  {
   "cell_type": "markdown",
   "id": "05343349-0fc3-478b-aea0-220f8a800132",
   "metadata": {},
   "source": [
    "# Read Data and Pruning"
   ]
  },
  {
   "cell_type": "code",
   "execution_count": 2,
   "id": "a1cf6a4d-188f-40d1-9f10-3965028c2011",
   "metadata": {},
   "outputs": [],
   "source": [
    "def prune_columns(dfm:pd.DataFrame, cols:list):\n",
    "    return dfm.drop(cols, axis=1)"
   ]
  },
  {
   "cell_type": "code",
   "execution_count": 3,
   "id": "ebf40fdf-6610-4a3b-83e3-904ee7971d97",
   "metadata": {},
   "outputs": [],
   "source": [
    "def read_data(ddir:str):\n",
    "    dataframe = pd.read_csv(ddir)\n",
    "    pruned_dataframe = prune_columns(dataframe, ['ImagesName'])\n",
    "    return pruned_dataframe"
   ]
  },
  {
   "cell_type": "markdown",
   "id": "e47f2cd2-411a-4350-97e9-0bcf1064d28f",
   "metadata": {},
   "source": [
    "# Split and Scale Data (Standard Scaler)"
   ]
  },
  {
   "cell_type": "code",
   "execution_count": 4,
   "id": "16b23f5a-8101-40e9-807d-3bbe098971ce",
   "metadata": {},
   "outputs": [],
   "source": [
    "from sklearn.model_selection import train_test_split\n",
    "from sklearn.preprocessing import StandardScaler"
   ]
  },
  {
   "cell_type": "code",
   "execution_count": 5,
   "id": "e4c7b5d9-f37f-419e-891e-0a5b9950bb45",
   "metadata": {},
   "outputs": [],
   "source": [
    "def split_data(dataframe:pd.DataFrame):\n",
    "    X = dataframe.drop(['Labels'], axis=1)\n",
    "    y = dataframe['Labels']\n",
    "    \n",
    "    X_train, X_test, y_train, y_test = train_test_split(X, y, test_size=0.2, random_state=42)\n",
    "    \n",
    "    scaler = StandardScaler()\n",
    "    X_train_scaled = scaler.fit_transform(X_train)\n",
    "    X_test_scaled = scaler.transform(X_test)\n",
    "    \n",
    "    return X_train_scaled, X_test_scaled, y_train, y_test"
   ]
  },
  {
   "cell_type": "markdown",
   "id": "50d3b036-7f4f-4e2b-8519-18ed030332fc",
   "metadata": {},
   "source": [
    "# Build Model and Evaluate"
   ]
  },
  {
   "cell_type": "code",
   "execution_count": 6,
   "id": "2b8595d0-272d-48f4-82a3-12c8af88bac7",
   "metadata": {},
   "outputs": [],
   "source": [
    "def evaluate(y_true, y_pred):\n",
    "    acc = accuracy_score(y_true, y_pred)\n",
    "    prec = precision_score(y_true, y_pred)\n",
    "    rec = recall_score(y_true, y_pred)\n",
    "    f = f1_score(y_true, y_pred)\n",
    "    \n",
    "    return acc, prec, rec, f"
   ]
  },
  {
   "cell_type": "code",
   "execution_count": 7,
   "id": "a1b9cd44-454c-430b-b60d-f399c9d64726",
   "metadata": {},
   "outputs": [],
   "source": [
    "def build_model(X_train, y_train, X_test, \\\n",
    "                y_test, kernel_list=['linear', 'poly', 'rbf']):\n",
    "    recorded_results = []\n",
    "    for k in kernel_list:\n",
    "        print(f'Processing {k} kernel...')\n",
    "        scores = {}\n",
    "        clf = SVC(kernel=k)\n",
    "        clf.fit(X_train, y_train)\n",
    "        y_pred = clf.predict(X_test)\n",
    "        test_accuracy, test_precision, test_recall, test_f1 = evaluate(y_test, y_pred)\n",
    "        # recorded_result[k] = [test_accuracy, test_precision, test_recall, test_f1]\n",
    "        scores['kernel'] = k\n",
    "        scores['test_accuracy'] = test_accuracy\n",
    "        scores['test_precision'] = test_precision\n",
    "        scores['test_recall'] = test_recall\n",
    "        scores['test_f1'] = test_f1\n",
    "        recorded_results.append(scores)\n",
    "    print('done!')\n",
    "        \n",
    "    return pd.DataFrame.from_dict(recorded_results)"
   ]
  },
  {
   "cell_type": "code",
   "execution_count": null,
   "id": "df583839-d027-499d-a840-b83e29ba5913",
   "metadata": {},
   "outputs": [],
   "source": []
  },
  {
   "cell_type": "markdown",
   "id": "216a9fee-71f1-4305-a491-ef881abcc949",
   "metadata": {},
   "source": [
    "# Main"
   ]
  },
  {
   "cell_type": "markdown",
   "id": "97db9c7d-0355-4c97-8574-030621ee8590",
   "metadata": {},
   "source": [
    "## Read"
   ]
  },
  {
   "cell_type": "code",
   "execution_count": 8,
   "id": "6e58a91f-d98d-4792-9eb4-9df1d84cb0c5",
   "metadata": {},
   "outputs": [],
   "source": [
    "features_data_dir = r'/Users/teguhsatya/Dev/segeralulus/exportedDataframe/a_features.csv'"
   ]
  },
  {
   "cell_type": "code",
   "execution_count": 9,
   "id": "45e5cd30-0ea6-449b-bfec-737469c14dc9",
   "metadata": {},
   "outputs": [],
   "source": [
    "df = read_data(features_data_dir)"
   ]
  },
  {
   "cell_type": "code",
   "execution_count": 10,
   "id": "edeace30-f382-42f1-8670-e2d30058f449",
   "metadata": {},
   "outputs": [
    {
     "data": {
      "text/html": [
       "<div>\n",
       "<style scoped>\n",
       "    .dataframe tbody tr th:only-of-type {\n",
       "        vertical-align: middle;\n",
       "    }\n",
       "\n",
       "    .dataframe tbody tr th {\n",
       "        vertical-align: top;\n",
       "    }\n",
       "\n",
       "    .dataframe thead th {\n",
       "        text-align: right;\n",
       "    }\n",
       "</style>\n",
       "<table border=\"1\" class=\"dataframe\">\n",
       "  <thead>\n",
       "    <tr style=\"text-align: right;\">\n",
       "      <th></th>\n",
       "      <th>CDR</th>\n",
       "      <th>VCDR</th>\n",
       "      <th>RDR</th>\n",
       "      <th>I</th>\n",
       "      <th>S</th>\n",
       "      <th>N</th>\n",
       "      <th>T</th>\n",
       "      <th>Labels</th>\n",
       "    </tr>\n",
       "  </thead>\n",
       "  <tbody>\n",
       "    <tr>\n",
       "      <th>14</th>\n",
       "      <td>0.444737</td>\n",
       "      <td>0.531447</td>\n",
       "      <td>0.139474</td>\n",
       "      <td>118</td>\n",
       "      <td>155</td>\n",
       "      <td>138</td>\n",
       "      <td>148</td>\n",
       "      <td>0</td>\n",
       "    </tr>\n",
       "    <tr>\n",
       "      <th>78</th>\n",
       "      <td>0.337621</td>\n",
       "      <td>0.373665</td>\n",
       "      <td>0.266881</td>\n",
       "      <td>107</td>\n",
       "      <td>113</td>\n",
       "      <td>123</td>\n",
       "      <td>115</td>\n",
       "      <td>0</td>\n",
       "    </tr>\n",
       "    <tr>\n",
       "      <th>118</th>\n",
       "      <td>0.529745</td>\n",
       "      <td>0.510929</td>\n",
       "      <td>0.186969</td>\n",
       "      <td>121</td>\n",
       "      <td>147</td>\n",
       "      <td>114</td>\n",
       "      <td>115</td>\n",
       "      <td>1</td>\n",
       "    </tr>\n",
       "    <tr>\n",
       "      <th>54</th>\n",
       "      <td>0.343537</td>\n",
       "      <td>0.338926</td>\n",
       "      <td>0.221088</td>\n",
       "      <td>131</td>\n",
       "      <td>125</td>\n",
       "      <td>103</td>\n",
       "      <td>132</td>\n",
       "      <td>0</td>\n",
       "    </tr>\n",
       "    <tr>\n",
       "      <th>66</th>\n",
       "      <td>0.441667</td>\n",
       "      <td>0.353333</td>\n",
       "      <td>0.177778</td>\n",
       "      <td>183</td>\n",
       "      <td>175</td>\n",
       "      <td>101</td>\n",
       "      <td>154</td>\n",
       "      <td>0</td>\n",
       "    </tr>\n",
       "  </tbody>\n",
       "</table>\n",
       "</div>"
      ],
      "text/plain": [
       "          CDR      VCDR       RDR    I    S    N    T  Labels\n",
       "14   0.444737  0.531447  0.139474  118  155  138  148       0\n",
       "78   0.337621  0.373665  0.266881  107  113  123  115       0\n",
       "118  0.529745  0.510929  0.186969  121  147  114  115       1\n",
       "54   0.343537  0.338926  0.221088  131  125  103  132       0\n",
       "66   0.441667  0.353333  0.177778  183  175  101  154       0"
      ]
     },
     "execution_count": 10,
     "metadata": {},
     "output_type": "execute_result"
    }
   ],
   "source": [
    "df.sample(5)"
   ]
  },
  {
   "cell_type": "code",
   "execution_count": 11,
   "id": "b99d9c98-b75b-4568-985d-8655f7b1bcf1",
   "metadata": {},
   "outputs": [],
   "source": [
    "X_train_scaled, X_test_scaled, y_train, y_test = split_data(df)"
   ]
  },
  {
   "cell_type": "code",
   "execution_count": 12,
   "id": "4d3b1adf-dfbd-427b-be42-83c9cda04463",
   "metadata": {},
   "outputs": [],
   "source": [
    "kernel_list = ['linear', 'poly', 'rbf']"
   ]
  },
  {
   "cell_type": "code",
   "execution_count": 13,
   "id": "86022f24-4415-4fc2-8693-f3ce056053c3",
   "metadata": {},
   "outputs": [
    {
     "name": "stdout",
     "output_type": "stream",
     "text": [
      "Processing linear kernel...\n",
      "Processing poly kernel...\n",
      "Processing rbf kernel...\n",
      "done!\n"
     ]
    }
   ],
   "source": [
    "reports = build_model(X_train_scaled, y_train, X_test_scaled, y_test, kernel_list)"
   ]
  },
  {
   "cell_type": "code",
   "execution_count": 14,
   "id": "406fdefb-2498-4889-a04a-0c16fe2d2cf9",
   "metadata": {},
   "outputs": [
    {
     "data": {
      "text/html": [
       "<div>\n",
       "<style scoped>\n",
       "    .dataframe tbody tr th:only-of-type {\n",
       "        vertical-align: middle;\n",
       "    }\n",
       "\n",
       "    .dataframe tbody tr th {\n",
       "        vertical-align: top;\n",
       "    }\n",
       "\n",
       "    .dataframe thead th {\n",
       "        text-align: right;\n",
       "    }\n",
       "</style>\n",
       "<table border=\"1\" class=\"dataframe\">\n",
       "  <thead>\n",
       "    <tr style=\"text-align: right;\">\n",
       "      <th></th>\n",
       "      <th>kernel</th>\n",
       "      <th>test_accuracy</th>\n",
       "      <th>test_precision</th>\n",
       "      <th>test_recall</th>\n",
       "      <th>test_f1</th>\n",
       "    </tr>\n",
       "  </thead>\n",
       "  <tbody>\n",
       "    <tr>\n",
       "      <th>0</th>\n",
       "      <td>linear</td>\n",
       "      <td>0.705882</td>\n",
       "      <td>0.611111</td>\n",
       "      <td>0.785714</td>\n",
       "      <td>0.6875</td>\n",
       "    </tr>\n",
       "    <tr>\n",
       "      <th>1</th>\n",
       "      <td>poly</td>\n",
       "      <td>0.529412</td>\n",
       "      <td>0.461538</td>\n",
       "      <td>0.857143</td>\n",
       "      <td>0.6000</td>\n",
       "    </tr>\n",
       "    <tr>\n",
       "      <th>2</th>\n",
       "      <td>rbf</td>\n",
       "      <td>0.823529</td>\n",
       "      <td>0.722222</td>\n",
       "      <td>0.928571</td>\n",
       "      <td>0.8125</td>\n",
       "    </tr>\n",
       "  </tbody>\n",
       "</table>\n",
       "</div>"
      ],
      "text/plain": [
       "   kernel  test_accuracy  test_precision  test_recall  test_f1\n",
       "0  linear       0.705882        0.611111     0.785714   0.6875\n",
       "1    poly       0.529412        0.461538     0.857143   0.6000\n",
       "2     rbf       0.823529        0.722222     0.928571   0.8125"
      ]
     },
     "execution_count": 14,
     "metadata": {},
     "output_type": "execute_result"
    }
   ],
   "source": [
    "reports"
   ]
  },
  {
   "cell_type": "code",
   "execution_count": 16,
   "id": "470b285f-ef98-4ace-8bab-3ecfee5b000d",
   "metadata": {},
   "outputs": [],
   "source": [
    "reports.to_csv('SVMResult/svmresult.csv', index=False)"
   ]
  },
  {
   "cell_type": "code",
   "execution_count": null,
   "id": "086fb2e3-cc94-4eb8-b219-4a24c02ff673",
   "metadata": {},
   "outputs": [],
   "source": []
  }
 ],
 "metadata": {
  "kernelspec": {
   "display_name": "segeralulus-2de6Tznz",
   "language": "python",
   "name": "segeralulus-2de6tznz"
  },
  "language_info": {
   "codemirror_mode": {
    "name": "ipython",
    "version": 3
   },
   "file_extension": ".py",
   "mimetype": "text/x-python",
   "name": "python",
   "nbconvert_exporter": "python",
   "pygments_lexer": "ipython3",
   "version": "3.10.4"
  }
 },
 "nbformat": 4,
 "nbformat_minor": 5
}
